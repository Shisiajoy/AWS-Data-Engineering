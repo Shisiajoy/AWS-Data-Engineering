{
 "cells": [
  {
   "cell_type": "code",
   "execution_count": 1,
   "metadata": {},
   "outputs": [],
   "source": [
    "# Import necessary libraries\n",
    "import requests\n",
    "import json\n",
    "import pandas as pd\n",
    "import s3_file_operations as s3_ops"
   ]
  },
  {
   "cell_type": "code",
   "execution_count": 2,
   "metadata": {},
   "outputs": [],
   "source": [
    "def extract_data(api_url, table_name):\n",
    "    page = 1\n",
    "    next = True\n",
    "    all_data = []\n",
    "\n",
    "    while next:  # loop to iterate through all the pages\n",
    "        print(f\"Extracting page {page} data from {table_name}.....\")\n",
    "        response = requests.get(f\"{api_url}?page={str(page)}\")\n",
    "        data = response.json().get('results', [])\n",
    "        all_data.extend(data)\n",
    "\n",
    "        if response.json().get('info', {}).get(\"next\") is not None:\n",
    "            page += 1\n",
    "        else:\n",
    "            break\n",
    "\n",
    "    return pd.DataFrame(all_data)"
   ]
  },
  {
   "cell_type": "code",
   "execution_count": 3,
   "metadata": {},
   "outputs": [],
   "source": [
    "def save_to_s3(df, bucket, table_name):\n",
    "    s3_ops.write_data_to_s3(df,\n",
    "                            bucket_name=bucket,\n",
    "                            key=f\"Rick&Morty/Untransformed/{table_name}.csv\")\n",
    "\n",
    "# Define the bucket name and API URLs\n",
    "bucket = \"de-masterclass-shisia\"  # S3 bucket name\n",
    "\n",
    "tables = {\n",
    "    \"Character\": \"https://rickandmortyapi.com/api/character\",\n",
    "    \"Location\": \"https://rickandmortyapi.com/api/location\",\n",
    "    \"Episode\": \"https://rickandmortyapi.com/api/episode\"\n",
    "}"
   ]
  },
  {
   "cell_type": "code",
   "execution_count": 4,
   "metadata": {},
   "outputs": [
    {
     "name": "stdout",
     "output_type": "stream",
     "text": [
      "Starting extraction for Character...\n",
      "Extracting page 1 data from Character.....\n",
      "Extracting page 2 data from Character.....\n",
      "Extracting page 3 data from Character.....\n",
      "Extracting page 4 data from Character.....\n",
      "Extracting page 5 data from Character.....\n",
      "Extracting page 6 data from Character.....\n",
      "Extracting page 7 data from Character.....\n",
      "Extracting page 8 data from Character.....\n",
      "Extracting page 9 data from Character.....\n",
      "Extracting page 10 data from Character.....\n",
      "Extracting page 11 data from Character.....\n",
      "Extracting page 12 data from Character.....\n",
      "Extracting page 13 data from Character.....\n",
      "Extracting page 14 data from Character.....\n",
      "Extracting page 15 data from Character.....\n",
      "Extracting page 16 data from Character.....\n",
      "Extracting page 17 data from Character.....\n",
      "Extracting page 18 data from Character.....\n",
      "Extracting page 19 data from Character.....\n",
      "Extracting page 20 data from Character.....\n",
      "Extracting page 21 data from Character.....\n",
      "Extracting page 22 data from Character.....\n",
      "Extracting page 23 data from Character.....\n",
      "Extracting page 24 data from Character.....\n",
      "Extracting page 25 data from Character.....\n",
      "Extracting page 26 data from Character.....\n",
      "Extracting page 27 data from Character.....\n",
      "Extracting page 28 data from Character.....\n",
      "Extracting page 29 data from Character.....\n",
      "Extracting page 30 data from Character.....\n",
      "Extracting page 31 data from Character.....\n",
      "Extracting page 32 data from Character.....\n",
      "Extracting page 33 data from Character.....\n",
      "Extracting page 34 data from Character.....\n",
      "Extracting page 35 data from Character.....\n",
      "Extracting page 36 data from Character.....\n",
      "Extracting page 37 data from Character.....\n",
      "Extracting page 38 data from Character.....\n",
      "Extracting page 39 data from Character.....\n",
      "Extracting page 40 data from Character.....\n",
      "Extracting page 41 data from Character.....\n",
      "Extracting page 42 data from Character.....\n",
      "Data saved to S3 with bucket_name: de-masterclass-shisia and key: Rick&Morty/Untransformed/Character.csv\n",
      "Data for Character successfully saved in S3. You can go check it out...\n",
      "Starting extraction for Location...\n",
      "Extracting page 1 data from Location.....\n",
      "Extracting page 2 data from Location.....\n",
      "Extracting page 3 data from Location.....\n",
      "Extracting page 4 data from Location.....\n",
      "Extracting page 5 data from Location.....\n",
      "Extracting page 6 data from Location.....\n",
      "Extracting page 7 data from Location.....\n",
      "Data saved to S3 with bucket_name: de-masterclass-shisia and key: Rick&Morty/Untransformed/Location.csv\n",
      "Data for Location successfully saved in S3. You can go check it out...\n",
      "Starting extraction for Episode...\n",
      "Extracting page 1 data from Episode.....\n",
      "Extracting page 2 data from Episode.....\n",
      "Extracting page 3 data from Episode.....\n",
      "Data saved to S3 with bucket_name: de-masterclass-shisia and key: Rick&Morty/Untransformed/Episode.csv\n",
      "Data for Episode successfully saved in S3. You can go check it out...\n",
      "Data extraction and saving to S3 completed successfully!\n"
     ]
    }
   ],
   "source": [
    "# Extract data and save to S3 for each table\n",
    "for table_name, api_url in tables.items():\n",
    "    print(f\"Starting extraction for {table_name}...\")\n",
    "    df = extract_data(api_url, table_name)\n",
    "    save_to_s3(df, bucket, table_name)\n",
    "    print(f\"Data for {table_name} successfully saved in S3. You can go check it out...\")\n",
    "\n",
    "print(\"Data extraction and saving to S3 completed successfully!\")"
   ]
  },
  {
   "cell_type": "code",
   "execution_count": null,
   "metadata": {},
   "outputs": [],
   "source": []
  }
 ],
 "metadata": {
  "kernelspec": {
   "display_name": "Python 3 (ipykernel)",
   "language": "python",
   "name": "python3"
  },
  "language_info": {
   "codemirror_mode": {
    "name": "ipython",
    "version": 3
   },
   "file_extension": ".py",
   "mimetype": "text/x-python",
   "name": "python",
   "nbconvert_exporter": "python",
   "pygments_lexer": "ipython3",
   "version": "3.12.0"
  }
 },
 "nbformat": 4,
 "nbformat_minor": 4
}
