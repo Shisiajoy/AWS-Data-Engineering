{
 "cells": [
  {
   "cell_type": "code",
   "execution_count": 30,
   "metadata": {},
   "outputs": [],
   "source": [
    "import datetime\n",
    "import pandas as pd\n",
    "from smart_open import open\n",
    "import pymysql.cursors\n",
    "# import rds_config\n",
    "import s3_file_operations as s3_ops"
   ]
  },
  {
   "cell_type": "markdown",
   "metadata": {},
   "source": [
    "We save our RDS credentials via the following variables. please note this is not a safe way to access credentials, its advisable to use environmental variables instead"
   ]
  },
  {
   "cell_type": "code",
   "execution_count": 32,
   "metadata": {},
   "outputs": [],
   "source": [
    "# RDS configurations\n",
    "rds_host = \"***********\"  # RDS endpoint\n",
    "rds_username = \"*****\"\n",
    "rds_user_pwd = \"*********\"  # RDS password\n",
    "rds_db_name = \"Rick_And_Morty\"\n",
    "bucket_name = \"de-masterclass-shisia\"   # S3 bucket name"
   ]
  },
  {
   "cell_type": "markdown",
   "metadata": {},
   "source": [
    "Reading one of our Transformed Datasets from s3"
   ]
  },
  {
   "cell_type": "code",
   "execution_count": 33,
   "metadata": {},
   "outputs": [],
   "source": [
    "def read_data_from_s3(bucket_name, keys):\n",
    "    dataframes = {}\n",
    "    for key in keys:\n",
    "        print(f\"Reading {key} from S3...\")\n",
    "        df = s3_ops.read_csv_from_s3(bucket_name, key)\n",
    "        if df is not None:\n",
    "            dataframes[key] = df\n",
    "            print(f\"{key} DataFrame shape: {df.shape}\")\n",
    "        else:\n",
    "            print(f\"Error in loading {key} from S3\")\n",
    "    return dataframes\n"
   ]
  },
  {
   "cell_type": "code",
   "execution_count": 34,
   "metadata": {},
   "outputs": [
    {
     "name": "stdout",
     "output_type": "stream",
     "text": [
      "Reading Character data from S3...\n",
      "Characters DataFrame shape: (826, 11)\n",
      "Reading Episode data from S3...\n",
      "Characters DataFrame shape: (51, 6)\n",
      "Reading Location data from S3...\n",
      "Locations DataFrame shape: (126, 6)\n",
      "Data loaded successfully from S3\n"
     ]
    }
   ],
   "source": [
    "bucket = \"de-masterclass-shisia\"  # S3 bucket name\n",
    "\n",
    "# Read data from S3\n",
    "print(\"Reading Character data from S3...\")\n",
    "characters_df = s3_ops.read_csv_from_s3(bucket, 'Rick&Morty/Transformed/Character.csv')\n",
    "print(f\"Characters DataFrame shape: {characters_df.shape}\")\n",
    "print(\"Reading Episode data from S3...\")\n",
    "episodes_df = s3_ops.read_csv_from_s3(bucket, 'Rick&Morty/Transformed/Episode.csv')\n",
    "print(f\"Characters DataFrame shape: {episodes_df.shape}\")\n",
    "print(\"Reading Location data from S3...\")\n",
    "location_df = s3_ops.read_csv_from_s3(bucket, 'Rick&Morty/Transformed/Location.csv')\n",
    "print(f\"Locations DataFrame shape: {location_df.shape}\")\n",
    "\n",
    "# Check if data is loaded successfully\n",
    "if characters_df is None or episodes_df is None or location_df is None:\n",
    "    print(\"Error in loading data from S3\")\n",
    "\n",
    "print(\"Data loaded successfully from S3\")\n",
    "\n"
   ]
  },
  {
   "cell_type": "code",
   "execution_count": 35,
   "metadata": {},
   "outputs": [],
   "source": [
    "def create_tables(cursor):\n",
    "    # SQL create table scripts\n",
    "    create_character_table = \"\"\"\n",
    "        CREATE TABLE IF NOT EXISTS Character_Table (\n",
    "            character_id INT NOT NULL PRIMARY KEY,\n",
    "            name VARCHAR(255),\n",
    "            status VARCHAR(255),\n",
    "            species VARCHAR(255),\n",
    "            type VARCHAR(255),\n",
    "            gender VARCHAR(255),\n",
    "            origin_id VARCHAR(255),\n",
    "            location_id VARCHAR(255),\n",
    "            image VARCHAR(255),\n",
    "            url VARCHAR(255),\n",
    "            created TIMESTAMP\n",
    "        ) ENGINE=INNODB;\n",
    "    \"\"\"\n",
    "\n",
    "    create_episode_table = \"\"\"\n",
    "        CREATE TABLE IF NOT EXISTS Episode_Table (\n",
    "            episode_id INT NOT NULL PRIMARY KEY,\n",
    "            name VARCHAR(255),\n",
    "            air_date VARCHAR(255),\n",
    "            episode VARCHAR(255),\n",
    "            url VARCHAR(255),\n",
    "            created TIMESTAMP\n",
    "        ) ENGINE=INNODB;\n",
    "    \"\"\"\n",
    "\n",
    "    create_appearance_table = \"\"\"\n",
    "        CREATE TABLE IF NOT EXISTS Appearance_Table (\n",
    "            appearance_id INT NOT NULL PRIMARY KEY,\n",
    "            episode_id INT,\n",
    "            character_id INT\n",
    "        ) ENGINE=INNODB;\n",
    "    \"\"\"\n",
    "\n",
    "    create_location_table = \"\"\"\n",
    "        CREATE TABLE IF NOT EXISTS Location_Table (\n",
    "            location_id INT NOT NULL PRIMARY KEY,\n",
    "            name VARCHAR(255),\n",
    "            type VARCHAR(255),\n",
    "            dimension VARCHAR(255),\n",
    "            url VARCHAR(255),\n",
    "            created TIMESTAMP\n",
    "        ) ENGINE=INNODB;\n",
    "    \"\"\"\n",
    "\n",
    "    # Execute create table queries\n",
    "    cursor.execute(create_character_table)\n",
    "    cursor.execute(create_episode_table)\n",
    "    cursor.execute(create_appearance_table)\n",
    "    cursor.execute(create_location_table)"
   ]
  },
  {
   "cell_type": "markdown",
   "metadata": {},
   "source": [
    "- Defining our connection to our remote database on AWS, creating our Destination Table and finally inserting the just transformed records to the database."
   ]
  },
  {
   "cell_type": "code",
   "execution_count": 36,
   "metadata": {},
   "outputs": [],
   "source": [
    "def bulk_insert_data(cursor, conn, df, table_name):\n",
    "    column_names = list(df.columns)\n",
    "    placeholders = ','.join(['%s'] * len(column_names))\n",
    "    sql_insert = f\"INSERT INTO {table_name} ({','.join(column_names)}) VALUES ({placeholders});\"\n",
    "\n",
    "    # Convert dataframe to list of tuples for batch insert\n",
    "    data = [tuple(row[column] if pd.notna(row[column]) else None for column in column_names) for _, row in df.iterrows()]\n",
    "\n",
    "    try:\n",
    "        # Batch insert data using executemany for better performance\n",
    "        cursor.executemany(sql_insert, data)\n",
    "        conn.commit()\n",
    "        print(f\"Data inserted into {table_name}\")\n",
    "    except Exception as e:\n",
    "        print(f\"Error inserting data into {table_name}: {e}\")\n",
    "        conn.rollback()"
   ]
  },
  {
   "cell_type": "code",
   "execution_count": 37,
   "metadata": {},
   "outputs": [],
   "source": [
    "# Establish RDS connection\n",
    "def connect_to_rds():\n",
    "    return pymysql.connect(host=rds_host,\n",
    "                           user=rds_username,\n",
    "                           password=rds_user_pwd,\n",
    "                           port=3306,\n",
    "                           database=rds_db_name,\n",
    "                           cursorclass=pymysql.cursors.DictCursor)\n"
   ]
  },
  {
   "cell_type": "code",
   "execution_count": 38,
   "metadata": {},
   "outputs": [
    {
     "name": "stdout",
     "output_type": "stream",
     "text": [
      "Reading Rick&Morty/Transformed/Character.csv from S3...\n",
      "Rick&Morty/Transformed/Character.csv DataFrame shape: (826, 11)\n",
      "Reading Rick&Morty/Transformed/Episode.csv from S3...\n",
      "Rick&Morty/Transformed/Episode.csv DataFrame shape: (51, 6)\n",
      "Reading Rick&Morty/Transformed/Appearance.csv from S3...\n",
      "Rick&Morty/Transformed/Appearance.csv DataFrame shape: (1266, 3)\n",
      "Reading Rick&Morty/Transformed/Location.csv from S3...\n",
      "Rick&Morty/Transformed/Location.csv DataFrame shape: (126, 6)\n",
      "Error inserting data into Character_Table: (1062, \"Duplicate entry '1' for key 'Character_Table.PRIMARY'\")\n",
      "Error inserting data into Episode_Table: (1062, \"Duplicate entry '1' for key 'Episode_Table.PRIMARY'\")\n",
      "Error inserting data into Appearance_Table: (1062, \"Duplicate entry '0' for key 'Appearance_Table.PRIMARY'\")\n",
      "Error inserting data into Location_Table: (1062, \"Duplicate entry '1' for key 'Location_Table.PRIMARY'\")\n",
      "Data insertion completed successfully\n"
     ]
    }
   ],
   "source": [
    "# Main processing function\n",
    "def process_data():\n",
    "    try:\n",
    "        # Read transformed data from S3\n",
    "        keys = [\n",
    "            'Rick&Morty/Transformed/Character.csv',\n",
    "            'Rick&Morty/Transformed/Episode.csv',\n",
    "            'Rick&Morty/Transformed/Appearance.csv',\n",
    "            'Rick&Morty/Transformed/Location.csv'\n",
    "        ]\n",
    "        dataframes = read_data_from_s3(bucket_name, keys)\n",
    "\n",
    "        if not dataframes:\n",
    "            print(\"No data loaded from S3\")\n",
    "            return\n",
    "\n",
    "        # Establish RDS connection\n",
    "        conn = connect_to_rds()\n",
    "        cursor = conn.cursor()\n",
    "\n",
    "        # Create tables\n",
    "        create_tables(cursor)\n",
    "\n",
    "        # Insert data into tables\n",
    "        bulk_insert_data(cursor, conn, dataframes['Rick&Morty/Transformed/Character.csv'], \"Character_Table\")\n",
    "        bulk_insert_data(cursor, conn, dataframes['Rick&Morty/Transformed/Episode.csv'], \"Episode_Table\")\n",
    "        bulk_insert_data(cursor, conn, dataframes['Rick&Morty/Transformed/Appearance.csv'], \"Appearance_Table\")\n",
    "        bulk_insert_data(cursor, conn, dataframes['Rick&Morty/Transformed/Location.csv'], \"Location_Table\")\n",
    "\n",
    "        print(\"Data insertion completed successfully\")\n",
    "    except Exception as e:\n",
    "        print(\"Exception: \", e)\n",
    "\n",
    "# Run the processing function\n",
    "process_data()"
   ]
  }
 ],
 "metadata": {
  "kernelspec": {
   "display_name": "Python 3 (ipykernel)",
   "language": "python",
   "name": "python3"
  },
  "language_info": {
   "codemirror_mode": {
    "name": "ipython",
    "version": 3
   },
   "file_extension": ".py",
   "mimetype": "text/x-python",
   "name": "python",
   "nbconvert_exporter": "python",
   "pygments_lexer": "ipython3",
   "version": "3.12.0"
  }
 },
 "nbformat": 4,
 "nbformat_minor": 4
}
